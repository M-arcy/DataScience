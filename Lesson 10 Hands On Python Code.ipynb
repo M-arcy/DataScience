{
 "cells": [
  {
   "cell_type": "markdown",
   "id": "0a232448",
   "metadata": {},
   "source": [
    "## Scenario 1 - 28 or 94 claimants are not as disabled as they claim. Rate of fraud is 16%."
   ]
  },
  {
   "cell_type": "markdown",
   "id": "954c67c7",
   "metadata": {},
   "source": [
    "### this is a one proportion z test, where we're comparing 28 to the whole, with a percentage. "
   ]
  },
  {
   "cell_type": "code",
   "execution_count": 9,
   "id": "9016e80a",
   "metadata": {},
   "outputs": [],
   "source": [
    "import numpy as np\n",
    "import pandas as pd\n",
    "import seaborn as sns\n",
    "from scipy import stats\n",
    "from statsmodels.stats.proportion import proportions_ztest"
   ]
  },
  {
   "cell_type": "code",
   "execution_count": 11,
   "id": "ce5c3785",
   "metadata": {},
   "outputs": [],
   "source": [
    "count = ([28])\n",
    "nobs = ([94])\n",
    "value = (16)\n",
    "stat, pval = proportions_ztest(count, nobs, value)"
   ]
  },
  {
   "cell_type": "code",
   "execution_count": 12,
   "id": "b6b62e4e",
   "metadata": {},
   "outputs": [
    {
     "name": "stdout",
     "output_type": "stream",
     "text": [
      "[-332.88888985] [0.]\n"
     ]
    }
   ],
   "source": [
    "print(stat, pval)"
   ]
  },
  {
   "cell_type": "markdown",
   "id": "2b533aca",
   "metadata": {},
   "source": [
    "### p < .05, so test finds significance and we can reject the null hypothesis that the rate of fraud is the same as what the industry normally reports. "
   ]
  },
  {
   "cell_type": "markdown",
   "id": "d233215a",
   "metadata": {},
   "source": [
    "### in other words, we have sufficient evidence that the rate of fraud is higher than what the industry reports. "
   ]
  },
  {
   "cell_type": "code",
   "execution_count": null,
   "id": "b75be90f",
   "metadata": {},
   "outputs": [],
   "source": []
  }
 ],
 "metadata": {
  "kernelspec": {
   "display_name": "Python 3 (ipykernel)",
   "language": "python",
   "name": "python3"
  },
  "language_info": {
   "codemirror_mode": {
    "name": "ipython",
    "version": 3
   },
   "file_extension": ".py",
   "mimetype": "text/x-python",
   "name": "python",
   "nbconvert_exporter": "python",
   "pygments_lexer": "ipython3",
   "version": "3.9.7"
  }
 },
 "nbformat": 4,
 "nbformat_minor": 5
}
